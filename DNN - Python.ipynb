{
 "cells": [
  {
   "cell_type": "code",
   "execution_count": 9,
   "metadata": {
    "collapsed": true
   },
   "outputs": [],
   "source": [
    "import time\n",
    "start = time.time()"
   ]
  },
  {
   "cell_type": "code",
   "execution_count": 10,
   "metadata": {},
   "outputs": [
    {
     "name": "stdout",
     "output_type": "stream",
     "text": [
      "Extracting /tmp/data/train-images-idx3-ubyte.gz\n",
      "Extracting /tmp/data/train-labels-idx1-ubyte.gz\n",
      "Extracting /tmp/data/t10k-images-idx3-ubyte.gz\n",
      "Extracting /tmp/data/t10k-labels-idx1-ubyte.gz\n"
     ]
    }
   ],
   "source": [
    "from __future__ import print_function\n",
    "\n",
    "# Import MNIST data\n",
    "from tensorflow.examples.tutorials.mnist import input_data\n",
    "mnist = input_data.read_data_sets(\"/tmp/data/\", one_hot=True)\n",
    "\n",
    "import tensorflow as tf"
   ]
  },
  {
   "cell_type": "code",
   "execution_count": 11,
   "metadata": {
    "collapsed": true
   },
   "outputs": [],
   "source": [
    "# Parameters\n",
    "learning_rate = 0.001\n",
    "num_steps = 500\n",
    "batch_size = 128\n",
    "display_step = 10\n",
    "\n",
    "# Network Parameters\n",
    "n_hidden_1 = 512 # 1st layer number of neurons\n",
    "n_hidden_2 = 512 # 2nd layer number of neurons\n",
    "n_hidden_3 = 512 # 3rd layer number of neurons\n",
    "n_hidden_4 = 512 # 4th layer number of neurons\n",
    "num_input = 784 # MNIST data input (img shape: 28*28)\n",
    "num_classes = 10 # MNIST total classes (0-9 digits)\n",
    "\n",
    "# tf Graph input\n",
    "X = tf.placeholder(\"float\", [None, num_input])\n",
    "Y = tf.placeholder(\"float\", [None, num_classes])"
   ]
  },
  {
   "cell_type": "code",
   "execution_count": 12,
   "metadata": {
    "collapsed": true
   },
   "outputs": [],
   "source": [
    "# Store layers weight & bias\n",
    "weights = {\n",
    "    'h1': tf.Variable(tf.random_normal([num_input, n_hidden_1])),\n",
    "    'h2': tf.Variable(tf.random_normal([n_hidden_1, n_hidden_2])),\n",
    "    'h3': tf.Variable(tf.random_normal([n_hidden_2, n_hidden_3])),\n",
    "    'h4': tf.Variable(tf.random_normal([n_hidden_3, n_hidden_4])),\n",
    "    'out': tf.Variable(tf.random_normal([n_hidden_4, num_classes]))\n",
    "}\n",
    "biases = {\n",
    "    'b1': tf.Variable(tf.random_normal([n_hidden_1])),\n",
    "    'b2': tf.Variable(tf.random_normal([n_hidden_2])),\n",
    "    'b3': tf.Variable(tf.random_normal([n_hidden_3])),\n",
    "    'b4': tf.Variable(tf.random_normal([n_hidden_4])),\n",
    "    'out': tf.Variable(tf.random_normal([num_classes]))\n",
    "}"
   ]
  },
  {
   "cell_type": "code",
   "execution_count": 13,
   "metadata": {
    "collapsed": true
   },
   "outputs": [],
   "source": [
    "# Create model\n",
    "def neural_net(x):\n",
    "    # Hidden fully connected layer with 512 neurons\n",
    "    layer_1 = tf.add(tf.matmul(x, weights['h1']), biases['b1'])\n",
    "    # Hidden fully connected layer with 512 neurons\n",
    "    layer_2 = tf.add(tf.matmul(layer_1, weights['h2']), biases['b2'])\n",
    "    # Hidden fully connected layer with 512 neurons\n",
    "    layer_3 = tf.add(tf.matmul(layer_2, weights['h3']), biases['b3'])\n",
    "    # Hidden fully connected layer with 512 neurons\n",
    "    layer_4 = tf.add(tf.matmul(layer_3, weights['h4']), biases['b4'])\n",
    "    # Output fully connected layer with a neuron for each class\n",
    "    out_layer = tf.matmul(layer_4, weights['out']) + biases['out']\n",
    "    return out_layer"
   ]
  },
  {
   "cell_type": "code",
   "execution_count": 14,
   "metadata": {},
   "outputs": [],
   "source": [
    "# Construct model\n",
    "logits = neural_net(X)\n",
    "\n",
    "# Define loss and optimizer\n",
    "loss_op = tf.reduce_mean(tf.nn.softmax_cross_entropy_with_logits(\n",
    "    logits=logits, labels=Y))\n",
    "optimizer = tf.train.AdamOptimizer(learning_rate=learning_rate)\n",
    "train_op = optimizer.minimize(loss_op)\n",
    "\n",
    "# Evaluate model (with test logits, for dropout to be disabled)\n",
    "correct_pred = tf.equal(tf.argmax(logits, 1), tf.argmax(Y, 1))\n",
    "accuracy = tf.reduce_mean(tf.cast(correct_pred, tf.float32))\n",
    "\n",
    "# Initialize the variables (i.e. assign their default value)\n",
    "init = tf.global_variables_initializer()"
   ]
  },
  {
   "cell_type": "code",
   "execution_count": 15,
   "metadata": {},
   "outputs": [
    {
     "name": "stdout",
     "output_type": "stream",
     "text": [
      "Step 1, Minibatch Loss= 3169345.0000, Training Accuracy= 0.102\n",
      "Step 10, Minibatch Loss= 1061757.2500, Training Accuracy= 0.375\n",
      "Step 20, Minibatch Loss= 415658.7500, Training Accuracy= 0.648\n",
      "Step 30, Minibatch Loss= 465117.8750, Training Accuracy= 0.703\n",
      "Step 40, Minibatch Loss= 412852.8125, Training Accuracy= 0.727\n",
      "Step 50, Minibatch Loss= 183442.9531, Training Accuracy= 0.828\n",
      "Step 60, Minibatch Loss= 202680.9531, Training Accuracy= 0.805\n",
      "Step 70, Minibatch Loss= 64473.2734, Training Accuracy= 0.906\n",
      "Step 80, Minibatch Loss= 226262.4531, Training Accuracy= 0.828\n",
      "Step 90, Minibatch Loss= 161669.0938, Training Accuracy= 0.852\n",
      "Step 100, Minibatch Loss= 343901.0938, Training Accuracy= 0.781\n",
      "Step 110, Minibatch Loss= 159022.1562, Training Accuracy= 0.844\n",
      "Step 120, Minibatch Loss= 223936.7969, Training Accuracy= 0.836\n",
      "Step 130, Minibatch Loss= 170495.9375, Training Accuracy= 0.844\n",
      "Step 140, Minibatch Loss= 78220.5625, Training Accuracy= 0.883\n",
      "Step 150, Minibatch Loss= 122976.7344, Training Accuracy= 0.875\n",
      "Step 160, Minibatch Loss= 193222.5469, Training Accuracy= 0.789\n",
      "Step 170, Minibatch Loss= 85140.7188, Training Accuracy= 0.891\n",
      "Step 180, Minibatch Loss= 139445.6875, Training Accuracy= 0.812\n",
      "Step 190, Minibatch Loss= 167125.8750, Training Accuracy= 0.805\n",
      "Step 200, Minibatch Loss= 152476.0312, Training Accuracy= 0.828\n",
      "Step 210, Minibatch Loss= 47841.6758, Training Accuracy= 0.922\n",
      "Step 220, Minibatch Loss= 120517.6953, Training Accuracy= 0.852\n",
      "Step 230, Minibatch Loss= 124640.0938, Training Accuracy= 0.828\n",
      "Step 240, Minibatch Loss= 132129.9844, Training Accuracy= 0.820\n",
      "Step 250, Minibatch Loss= 82234.3438, Training Accuracy= 0.891\n",
      "Step 260, Minibatch Loss= 143752.0781, Training Accuracy= 0.867\n",
      "Step 270, Minibatch Loss= 72373.1875, Training Accuracy= 0.891\n",
      "Step 280, Minibatch Loss= 105525.7344, Training Accuracy= 0.891\n",
      "Step 290, Minibatch Loss= 61047.0977, Training Accuracy= 0.891\n",
      "Step 300, Minibatch Loss= 46051.8477, Training Accuracy= 0.906\n",
      "Step 310, Minibatch Loss= 103769.9453, Training Accuracy= 0.883\n",
      "Step 320, Minibatch Loss= 85184.0156, Training Accuracy= 0.875\n",
      "Step 330, Minibatch Loss= 135486.8750, Training Accuracy= 0.906\n",
      "Step 340, Minibatch Loss= 108331.7344, Training Accuracy= 0.836\n",
      "Step 350, Minibatch Loss= 40441.3359, Training Accuracy= 0.898\n",
      "Step 360, Minibatch Loss= 146412.3125, Training Accuracy= 0.859\n",
      "Step 370, Minibatch Loss= 106096.8047, Training Accuracy= 0.867\n",
      "Step 380, Minibatch Loss= 173839.4062, Training Accuracy= 0.867\n",
      "Step 390, Minibatch Loss= 94573.1562, Training Accuracy= 0.883\n",
      "Step 400, Minibatch Loss= 104132.6406, Training Accuracy= 0.828\n",
      "Step 410, Minibatch Loss= 91025.9688, Training Accuracy= 0.898\n",
      "Step 420, Minibatch Loss= 72436.8359, Training Accuracy= 0.883\n",
      "Step 430, Minibatch Loss= 47189.3281, Training Accuracy= 0.914\n",
      "Step 440, Minibatch Loss= 69465.7891, Training Accuracy= 0.891\n",
      "Step 450, Minibatch Loss= 52132.0273, Training Accuracy= 0.883\n",
      "Step 460, Minibatch Loss= 121835.4844, Training Accuracy= 0.891\n",
      "Step 470, Minibatch Loss= 80970.2656, Training Accuracy= 0.898\n",
      "Step 480, Minibatch Loss= 48962.7344, Training Accuracy= 0.914\n",
      "Step 490, Minibatch Loss= 90351.9375, Training Accuracy= 0.859\n",
      "Step 500, Minibatch Loss= 59104.3438, Training Accuracy= 0.930\n",
      "Optimization Finished!\n",
      "Testing Accuracy: 0.8797\n"
     ]
    }
   ],
   "source": [
    "# Start training\n",
    "with tf.Session() as sess:\n",
    "\n",
    "    # Run the initializer\n",
    "    sess.run(init)\n",
    "\n",
    "    for step in range(1, num_steps+1):\n",
    "        batch_x, batch_y = mnist.train.next_batch(batch_size)\n",
    "        # Run optimization op (backprop)\n",
    "        sess.run(train_op, feed_dict={X: batch_x, Y: batch_y})\n",
    "        if step % display_step == 0 or step == 1:\n",
    "            # Calculate batch loss and accuracy\n",
    "            loss, acc = sess.run([loss_op, accuracy], feed_dict={X: batch_x,\n",
    "                                                                 Y: batch_y})\n",
    "            print(\"Step \" + str(step) + \", Minibatch Loss= \" + \\\n",
    "                  \"{:.4f}\".format(loss) + \", Training Accuracy= \" + \\\n",
    "                  \"{:.3f}\".format(acc))\n",
    "\n",
    "    print(\"Optimization Finished!\")\n",
    "\n",
    "    # Calculate accuracy for MNIST test images\n",
    "    print(\"Testing Accuracy:\", \\\n",
    "        sess.run(accuracy, feed_dict={X: mnist.test.images,\n",
    "                                      Y: mnist.test.labels}))"
   ]
  },
  {
   "cell_type": "code",
   "execution_count": 16,
   "metadata": {},
   "outputs": [
    {
     "name": "stdout",
     "output_type": "stream",
     "text": [
      "Time: 23.30408787727356\n"
     ]
    }
   ],
   "source": [
    "end = time.time()\n",
    "print(\"Time: \" + str(end - start))"
   ]
  }
 ],
 "metadata": {
  "kernelspec": {
   "display_name": "Python 3",
   "language": "python",
   "name": "python3"
  },
  "language_info": {
   "codemirror_mode": {
    "name": "ipython",
    "version": 3
   },
   "file_extension": ".py",
   "mimetype": "text/x-python",
   "name": "python",
   "nbconvert_exporter": "python",
   "pygments_lexer": "ipython3",
   "version": "3.6.3"
  }
 },
 "nbformat": 4,
 "nbformat_minor": 2
}
