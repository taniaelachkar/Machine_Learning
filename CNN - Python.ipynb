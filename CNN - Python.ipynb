{
 "cells": [
  {
   "cell_type": "markdown",
   "metadata": {},
   "source": [
    "# ML3_CNN_MNIST - Tania_El_Achkar"
   ]
  },
  {
   "cell_type": "code",
   "execution_count": 17,
   "metadata": {},
   "outputs": [
    {
     "data": {
      "text/plain": [
       "'\\nA Convolutional Network implementation example using TensorFlow library.\\nThis example is using the MNIST database of handwritten digits\\n(http://yann.lecun.com/exdb/mnist/)\\n'"
      ]
     },
     "execution_count": 17,
     "metadata": {},
     "output_type": "execute_result"
    }
   ],
   "source": [
    "'''\n",
    "A Convolutional Network implementation example using TensorFlow library.\n",
    "This example is using the MNIST database of handwritten digits\n",
    "(http://yann.lecun.com/exdb/mnist/)\n",
    "'''"
   ]
  },
  {
   "cell_type": "code",
   "execution_count": 18,
   "metadata": {},
   "outputs": [],
   "source": [
    "from __future__ import print_function\n",
    "import tensorflow as tf"
   ]
  },
  {
   "cell_type": "code",
   "execution_count": 19,
   "metadata": {
    "collapsed": true
   },
   "outputs": [],
   "source": [
    "# Import MNIST data\n",
    "from tensorflow.examples.tutorials.mnist import input_data"
   ]
  },
  {
   "cell_type": "code",
   "execution_count": 20,
   "metadata": {},
   "outputs": [
    {
     "name": "stdout",
     "output_type": "stream",
     "text": [
      "Extracting /tmp/data/train-images-idx3-ubyte.gz\n",
      "Extracting /tmp/data/train-labels-idx1-ubyte.gz\n",
      "Extracting /tmp/data/t10k-images-idx3-ubyte.gz\n",
      "Extracting /tmp/data/t10k-labels-idx1-ubyte.gz\n"
     ]
    }
   ],
   "source": [
    "mnist = input_data.read_data_sets(\"/tmp/data/\", one_hot=True)"
   ]
  },
  {
   "cell_type": "code",
   "execution_count": 21,
   "metadata": {
    "collapsed": true
   },
   "outputs": [],
   "source": [
    "# Parameters\n",
    "learning_rate = 0.001\n",
    "training_iters = 200000\n",
    "batch_size = 128\n",
    "display_step = 10"
   ]
  },
  {
   "cell_type": "code",
   "execution_count": 22,
   "metadata": {
    "collapsed": true
   },
   "outputs": [],
   "source": [
    "# Network Parameters\n",
    "n_input = 784   # MNIST data input (img shape: 28*28)\n",
    "n_classes = 10  # MNIST total classes (0-9 digits)\n",
    "dropout = 0.75  # Dropout, probability to keep units"
   ]
  },
  {
   "cell_type": "code",
   "execution_count": 23,
   "metadata": {
    "collapsed": true
   },
   "outputs": [],
   "source": [
    "# tf Graph input\n",
    "x = tf.placeholder(tf.float32, [None, n_input])\n",
    "y = tf.placeholder(tf.float32, [None, n_classes])\n",
    "keep_prob = tf.placeholder(tf.float32)  # dropout (keep probability)"
   ]
  },
  {
   "cell_type": "code",
   "execution_count": 24,
   "metadata": {
    "collapsed": true
   },
   "outputs": [],
   "source": [
    "# Create some wrappers for simplicity\n",
    "def conv2d(x, W, b, strides=1):\n",
    "    # Conv2D wrapper, with bias and relu activation\n",
    "    x = tf.nn.conv2d(x, W, strides=[1, strides, strides, 1], padding='SAME')\n",
    "    x = tf.nn.bias_add(x, b)\n",
    "    return tf.nn.relu(x)\n",
    "\n",
    "\n",
    "def maxpool2d(x, k=2):\n",
    "    # MaxPool2D wrapper\n",
    "    return tf.nn.max_pool(x, ksize=[1, k, k, 1], strides=[1, k, k, 1],\n",
    "                          padding='SAME')"
   ]
  },
  {
   "cell_type": "code",
   "execution_count": 25,
   "metadata": {
    "collapsed": true
   },
   "outputs": [],
   "source": [
    "# Create model\n",
    "def conv_net(x, weights, biases, dropout):\n",
    "    # Reshape input picture\n",
    "    x = tf.reshape(x, shape=[-1, 28, 28, 1])\n",
    "\n",
    "    # Convolution Layer\n",
    "    conv1 = conv2d(x, weights['wc1'], biases['bc1'])\n",
    "    print(\"shape of conv1: \", conv1.get_shape())\n",
    "\n",
    "    # Max Pooling (down-sampling)\n",
    "    conv1 = maxpool2d(conv1, k=2)\n",
    "    print(\"shape of conv1 after max pool: \", conv1.get_shape())\n",
    "\n",
    "    # Convolution Layer\n",
    "    conv2 = conv2d(conv1, weights['wc2'], biases['bc2'])\n",
    "    print(\"shape of conv2: \", conv2.get_shape())\n",
    "\n",
    "    # Max Pooling (down-sampling)\n",
    "    conv2 = maxpool2d(conv2, k=2)\n",
    "    print(\"shape of conv1 after max pool: \", conv2.get_shape())\n",
    "    exit(-1)\n",
    "\n",
    "    # Fully connected layer\n",
    "    # Reshape conv2 output to fit fully connected layer input\n",
    "    fc1 = tf.reshape(conv2, [-1, weights['wd1'].get_shape().as_list()[0]])\n",
    "    fc1 = tf.add(tf.matmul(fc1, weights['wd1']), biases['bd1'])\n",
    "    fc1 = tf.nn.relu(fc1)\n",
    "    # Apply Dropout\n",
    "    fc1 = tf.nn.dropout(fc1, dropout)\n",
    "\n",
    "    # Output, class prediction\n",
    "    out = tf.add(tf.matmul(fc1, weights['out']), biases['out'])\n",
    "    return out"
   ]
  },
  {
   "cell_type": "code",
   "execution_count": 26,
   "metadata": {
    "collapsed": true
   },
   "outputs": [],
   "source": [
    "# Store layers weight & bias\n",
    "weights = {\n",
    "    # 5x5 conv, 1 input, 32 outputs\n",
    "    'wc1': tf.Variable(tf.random_normal([5, 5, 1, 32])),\n",
    "    # 5x5 conv, 32 inputs, 64 outputs\n",
    "    'wc2': tf.Variable(tf.random_normal([5, 5, 32, 64])),\n",
    "    # fully connected, 7*7*64 inputs, 1024 outputs\n",
    "    'wd1': tf.Variable(tf.random_normal([7 * 7 * 64, 1024])),\n",
    "    # 1024 inputs, 10 outputs (class prediction)\n",
    "    'out': tf.Variable(tf.random_normal([1024, n_classes]))\n",
    "}\n",
    "\n",
    "biases = {\n",
    "    'bc1': tf.Variable(tf.random_normal([32])),\n",
    "    'bc2': tf.Variable(tf.random_normal([64])),\n",
    "    'bd1': tf.Variable(tf.random_normal([1024])),\n",
    "    'out': tf.Variable(tf.random_normal([n_classes]))\n",
    "}"
   ]
  },
  {
   "cell_type": "code",
   "execution_count": 27,
   "metadata": {},
   "outputs": [
    {
     "name": "stdout",
     "output_type": "stream",
     "text": [
      "shape of conv1:  (?, 28, 28, 32)\n",
      "shape of conv1 after max pool:  (?, 14, 14, 32)\n",
      "shape of conv2:  (?, 14, 14, 64)\n",
      "shape of conv1 after max pool:  (?, 7, 7, 64)\n"
     ]
    }
   ],
   "source": [
    "# Construct model\n",
    "pred = conv_net(x, weights, biases, keep_prob)"
   ]
  },
  {
   "cell_type": "code",
   "execution_count": 28,
   "metadata": {},
   "outputs": [],
   "source": [
    "# Define loss and optimizer\n",
    "cost = tf.reduce_mean(tf.nn.softmax_cross_entropy_with_logits(logits=pred, labels=y))\n",
    "optimizer = tf.train.AdamOptimizer(learning_rate=learning_rate).minimize(cost)"
   ]
  },
  {
   "cell_type": "code",
   "execution_count": 29,
   "metadata": {
    "collapsed": true
   },
   "outputs": [],
   "source": [
    "# Evaluate model\n",
    "correct_pred = tf.equal(tf.argmax(pred, 1), tf.argmax(y, 1))\n",
    "accuracy = tf.reduce_mean(tf.cast(correct_pred, tf.float32))"
   ]
  },
  {
   "cell_type": "code",
   "execution_count": 30,
   "metadata": {
    "collapsed": true
   },
   "outputs": [],
   "source": [
    "# Initializing the variables\n",
    "init = tf.global_variables_initializer()"
   ]
  },
  {
   "cell_type": "code",
   "execution_count": 31,
   "metadata": {},
   "outputs": [
    {
     "name": "stdout",
     "output_type": "stream",
     "text": [
      "Iter 1280, Minibatch Loss= 20855.632812, Training Accuracy= 0.32812\n",
      "Iter 2560, Minibatch Loss= 11116.433594, Training Accuracy= 0.52344\n",
      "Iter 3840, Minibatch Loss= 5729.418945, Training Accuracy= 0.72656\n",
      "Iter 5120, Minibatch Loss= 3601.786133, Training Accuracy= 0.78906\n",
      "Iter 6400, Minibatch Loss= 3238.329346, Training Accuracy= 0.81250\n",
      "Iter 7680, Minibatch Loss= 2684.652832, Training Accuracy= 0.78125\n",
      "Iter 8960, Minibatch Loss= 2639.956055, Training Accuracy= 0.86719\n",
      "Iter 10240, Minibatch Loss= 3838.337891, Training Accuracy= 0.81250\n",
      "Iter 11520, Minibatch Loss= 3009.984863, Training Accuracy= 0.85938\n",
      "Iter 12800, Minibatch Loss= 2604.558105, Training Accuracy= 0.84375\n",
      "Iter 14080, Minibatch Loss= 1984.638184, Training Accuracy= 0.91406\n",
      "Iter 15360, Minibatch Loss= 3352.636719, Training Accuracy= 0.85938\n",
      "Iter 16640, Minibatch Loss= 1330.103027, Training Accuracy= 0.91406\n",
      "Iter 17920, Minibatch Loss= 1476.274902, Training Accuracy= 0.92188\n",
      "Iter 19200, Minibatch Loss= 1516.815308, Training Accuracy= 0.88281\n",
      "Iter 20480, Minibatch Loss= 1356.353027, Training Accuracy= 0.91406\n",
      "Iter 21760, Minibatch Loss= 603.643677, Training Accuracy= 0.94531\n",
      "Iter 23040, Minibatch Loss= 2064.566162, Training Accuracy= 0.90625\n",
      "Iter 24320, Minibatch Loss= 2167.560547, Training Accuracy= 0.89844\n",
      "Iter 25600, Minibatch Loss= 1175.156250, Training Accuracy= 0.92188\n",
      "Iter 26880, Minibatch Loss= 1090.711426, Training Accuracy= 0.92188\n",
      "Iter 28160, Minibatch Loss= 1031.279541, Training Accuracy= 0.91406\n",
      "Iter 29440, Minibatch Loss= 1168.249023, Training Accuracy= 0.93750\n",
      "Iter 30720, Minibatch Loss= 461.012451, Training Accuracy= 0.92188\n",
      "Iter 32000, Minibatch Loss= 1038.689453, Training Accuracy= 0.92969\n",
      "Iter 33280, Minibatch Loss= 855.617920, Training Accuracy= 0.95312\n",
      "Iter 34560, Minibatch Loss= 1066.322876, Training Accuracy= 0.93750\n",
      "Iter 35840, Minibatch Loss= 530.136902, Training Accuracy= 0.96094\n",
      "Iter 37120, Minibatch Loss= 1071.526733, Training Accuracy= 0.94531\n",
      "Iter 38400, Minibatch Loss= 938.905640, Training Accuracy= 0.93750\n",
      "Iter 39680, Minibatch Loss= 1590.866333, Training Accuracy= 0.89844\n",
      "Iter 40960, Minibatch Loss= 816.805542, Training Accuracy= 0.92188\n",
      "Iter 42240, Minibatch Loss= 785.434692, Training Accuracy= 0.96875\n",
      "Iter 43520, Minibatch Loss= 623.211731, Training Accuracy= 0.96094\n",
      "Iter 44800, Minibatch Loss= 496.766968, Training Accuracy= 0.93750\n",
      "Iter 46080, Minibatch Loss= 1101.271606, Training Accuracy= 0.90625\n",
      "Iter 47360, Minibatch Loss= 559.576477, Training Accuracy= 0.96094\n",
      "Iter 48640, Minibatch Loss= 828.440857, Training Accuracy= 0.93750\n",
      "Iter 49920, Minibatch Loss= 945.740479, Training Accuracy= 0.93750\n",
      "Iter 51200, Minibatch Loss= 975.914185, Training Accuracy= 0.91406\n",
      "Iter 52480, Minibatch Loss= 544.497437, Training Accuracy= 0.93750\n",
      "Iter 53760, Minibatch Loss= 649.829651, Training Accuracy= 0.95312\n",
      "Iter 55040, Minibatch Loss= 354.862915, Training Accuracy= 0.96875\n",
      "Iter 56320, Minibatch Loss= 386.762939, Training Accuracy= 0.95312\n",
      "Iter 57600, Minibatch Loss= 333.454956, Training Accuracy= 0.96094\n",
      "Iter 58880, Minibatch Loss= 620.613892, Training Accuracy= 0.93750\n",
      "Iter 60160, Minibatch Loss= 652.838806, Training Accuracy= 0.92969\n",
      "Iter 61440, Minibatch Loss= 472.315979, Training Accuracy= 0.95312\n",
      "Iter 62720, Minibatch Loss= 448.996796, Training Accuracy= 0.95312\n",
      "Iter 64000, Minibatch Loss= 497.830261, Training Accuracy= 0.94531\n",
      "Iter 65280, Minibatch Loss= 477.058228, Training Accuracy= 0.94531\n",
      "Iter 66560, Minibatch Loss= 430.077667, Training Accuracy= 0.94531\n",
      "Iter 67840, Minibatch Loss= 447.644745, Training Accuracy= 0.99219\n",
      "Iter 69120, Minibatch Loss= 474.743713, Training Accuracy= 0.95312\n",
      "Iter 70400, Minibatch Loss= 274.578278, Training Accuracy= 0.97656\n",
      "Iter 71680, Minibatch Loss= 802.534485, Training Accuracy= 0.92969\n",
      "Iter 72960, Minibatch Loss= 198.990509, Training Accuracy= 0.96094\n",
      "Iter 74240, Minibatch Loss= 93.296417, Training Accuracy= 0.99219\n",
      "Iter 75520, Minibatch Loss= 200.398712, Training Accuracy= 0.97656\n",
      "Iter 76800, Minibatch Loss= 607.633240, Training Accuracy= 0.96094\n",
      "Iter 78080, Minibatch Loss= 323.254150, Training Accuracy= 0.97656\n",
      "Iter 79360, Minibatch Loss= 650.009888, Training Accuracy= 0.96094\n",
      "Iter 80640, Minibatch Loss= 875.203064, Training Accuracy= 0.93750\n",
      "Iter 81920, Minibatch Loss= 277.598694, Training Accuracy= 0.96875\n",
      "Iter 83200, Minibatch Loss= 251.032867, Training Accuracy= 0.96094\n",
      "Iter 84480, Minibatch Loss= 224.503021, Training Accuracy= 0.96875\n",
      "Iter 85760, Minibatch Loss= 78.114044, Training Accuracy= 0.97656\n",
      "Iter 87040, Minibatch Loss= 228.473007, Training Accuracy= 0.96094\n",
      "Iter 88320, Minibatch Loss= 506.389374, Training Accuracy= 0.93750\n",
      "Iter 89600, Minibatch Loss= 119.412109, Training Accuracy= 0.99219\n",
      "Iter 90880, Minibatch Loss= 215.982849, Training Accuracy= 0.96094\n",
      "Iter 92160, Minibatch Loss= 357.852966, Training Accuracy= 0.96094\n",
      "Iter 93440, Minibatch Loss= 589.769836, Training Accuracy= 0.96094\n",
      "Iter 94720, Minibatch Loss= 683.273438, Training Accuracy= 0.95312\n",
      "Iter 96000, Minibatch Loss= 496.962036, Training Accuracy= 0.95312\n",
      "Iter 97280, Minibatch Loss= 353.705750, Training Accuracy= 0.94531\n",
      "Iter 98560, Minibatch Loss= 428.632233, Training Accuracy= 0.96875\n",
      "Iter 99840, Minibatch Loss= 364.906525, Training Accuracy= 0.95312\n",
      "Optimization Finished!\n",
      "Testing Accuracy: 0.97265625\n"
     ]
    }
   ],
   "source": [
    "# Launch the graph\n",
    "with tf.Session() as sess:\n",
    "    sess.run(init)\n",
    "    step = 1\n",
    "    # Keep training until reach max iterations\n",
    "    while step * batch_size < training_iters:\n",
    "        batch_x, batch_y = mnist.train.next_batch(batch_size)\n",
    "        # Run optimization op (backprop)\n",
    "        sess.run(optimizer, feed_dict={x: batch_x, y: batch_y,\n",
    "                                       keep_prob: dropout})\n",
    "        if step % display_step == 0:\n",
    "            # Calculate batch loss and accuracy\n",
    "            loss, acc = sess.run([cost, accuracy], feed_dict={x: batch_x,\n",
    "                                                              y: batch_y,\n",
    "                                                              keep_prob: 1.})\n",
    "            print(\"Iter \" + str(step*batch_size) + \", Minibatch Loss= \" + \\\n",
    "                  \"{:.6f}\".format(loss) + \", Training Accuracy= \" + \\\n",
    "                  \"{:.5f}\".format(acc))\n",
    "        step += 1\n",
    "    print(\"Optimization Finished!\")\n",
    "\n",
    "    # Calculate accuracy for 256 mnist test images\n",
    "    print(\"Testing Accuracy:\", \\\n",
    "        sess.run(accuracy, feed_dict={x: mnist.test.images[:256],\n",
    "                                      y: mnist.test.labels[:256],\n",
    "                                      keep_prob: 1.}))"
   ]
  },
  {
   "cell_type": "code",
   "execution_count": null,
   "metadata": {
    "collapsed": true
   },
   "outputs": [],
   "source": []
  }
 ],
 "metadata": {
  "kernelspec": {
   "display_name": "Python 3",
   "language": "python",
   "name": "python3"
  },
  "language_info": {
   "codemirror_mode": {
    "name": "ipython",
    "version": 3
   },
   "file_extension": ".py",
   "mimetype": "text/x-python",
   "name": "python",
   "nbconvert_exporter": "python",
   "pygments_lexer": "ipython3",
   "version": "3.6.3"
  }
 },
 "nbformat": 4,
 "nbformat_minor": 2
}
