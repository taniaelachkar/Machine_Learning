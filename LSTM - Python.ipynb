{
 "cells": [
  {
   "cell_type": "markdown",
   "metadata": {},
   "source": [
    "# ML3_LSTM_MNIST - Tania_El_Achkar"
   ]
  },
  {
   "cell_type": "code",
   "execution_count": 1,
   "metadata": {
    "collapsed": true
   },
   "outputs": [],
   "source": [
    "import time\n",
    "start = time.time()"
   ]
  },
  {
   "cell_type": "code",
   "execution_count": 2,
   "metadata": {},
   "outputs": [
    {
     "data": {
      "text/plain": [
       "'\\nA Recurrent Neural Network (LSTM) implementation example using TensorFlow library.\\nThis example is using the MNIST database of handwritten digits (http://yann.lecun.com/exdb/mnist/)\\nLong Short Term Memory paper: http://deeplearning.cs.cmu.edu/pdfs/Hochreiter97_lstm.pdf\\n'"
      ]
     },
     "execution_count": 2,
     "metadata": {},
     "output_type": "execute_result"
    }
   ],
   "source": [
    "'''\n",
    "A Recurrent Neural Network (LSTM) implementation example using TensorFlow library.\n",
    "This example is using the MNIST database of handwritten digits (http://yann.lecun.com/exdb/mnist/)\n",
    "Long Short Term Memory paper: http://deeplearning.cs.cmu.edu/pdfs/Hochreiter97_lstm.pdf\n",
    "'''"
   ]
  },
  {
   "cell_type": "code",
   "execution_count": 3,
   "metadata": {},
   "outputs": [
    {
     "name": "stderr",
     "output_type": "stream",
     "text": [
      "/Applications/anaconda3/lib/python3.6/site-packages/h5py/__init__.py:34: FutureWarning: Conversion of the second argument of issubdtype from `float` to `np.floating` is deprecated. In future, it will be treated as `np.float64 == np.dtype(float).type`.\n",
      "  from ._conv import register_converters as _register_converters\n"
     ]
    }
   ],
   "source": [
    "from __future__ import print_function\n",
    "\n",
    "import tensorflow as tf\n",
    "from tensorflow.contrib import rnn"
   ]
  },
  {
   "cell_type": "code",
   "execution_count": 4,
   "metadata": {},
   "outputs": [
    {
     "name": "stdout",
     "output_type": "stream",
     "text": [
      "WARNING:tensorflow:From <ipython-input-4-7621968b33c6>:3: read_data_sets (from tensorflow.contrib.learn.python.learn.datasets.mnist) is deprecated and will be removed in a future version.\n",
      "Instructions for updating:\n",
      "Please use alternatives such as official/mnist/dataset.py from tensorflow/models.\n",
      "WARNING:tensorflow:From /Applications/anaconda3/lib/python3.6/site-packages/tensorflow/contrib/learn/python/learn/datasets/mnist.py:260: maybe_download (from tensorflow.contrib.learn.python.learn.datasets.base) is deprecated and will be removed in a future version.\n",
      "Instructions for updating:\n",
      "Please write your own downloading logic.\n",
      "WARNING:tensorflow:From /Applications/anaconda3/lib/python3.6/site-packages/tensorflow/contrib/learn/python/learn/datasets/mnist.py:262: extract_images (from tensorflow.contrib.learn.python.learn.datasets.mnist) is deprecated and will be removed in a future version.\n",
      "Instructions for updating:\n",
      "Please use tf.data to implement this functionality.\n",
      "Extracting /tmp/data/train-images-idx3-ubyte.gz\n",
      "WARNING:tensorflow:From /Applications/anaconda3/lib/python3.6/site-packages/tensorflow/contrib/learn/python/learn/datasets/mnist.py:267: extract_labels (from tensorflow.contrib.learn.python.learn.datasets.mnist) is deprecated and will be removed in a future version.\n",
      "Instructions for updating:\n",
      "Please use tf.data to implement this functionality.\n",
      "Extracting /tmp/data/train-labels-idx1-ubyte.gz\n",
      "WARNING:tensorflow:From /Applications/anaconda3/lib/python3.6/site-packages/tensorflow/contrib/learn/python/learn/datasets/mnist.py:110: dense_to_one_hot (from tensorflow.contrib.learn.python.learn.datasets.mnist) is deprecated and will be removed in a future version.\n",
      "Instructions for updating:\n",
      "Please use tf.one_hot on tensors.\n",
      "Extracting /tmp/data/t10k-images-idx3-ubyte.gz\n",
      "Extracting /tmp/data/t10k-labels-idx1-ubyte.gz\n",
      "WARNING:tensorflow:From /Applications/anaconda3/lib/python3.6/site-packages/tensorflow/contrib/learn/python/learn/datasets/mnist.py:290: DataSet.__init__ (from tensorflow.contrib.learn.python.learn.datasets.mnist) is deprecated and will be removed in a future version.\n",
      "Instructions for updating:\n",
      "Please use alternatives such as official/mnist/dataset.py from tensorflow/models.\n"
     ]
    }
   ],
   "source": [
    "# Import MNIST data\n",
    "from tensorflow.examples.tutorials.mnist import input_data\n",
    "mnist = input_data.read_data_sets(\"/tmp/data/\", one_hot=True)"
   ]
  },
  {
   "cell_type": "code",
   "execution_count": 5,
   "metadata": {},
   "outputs": [
    {
     "data": {
      "text/plain": [
       "'\\nTo classify images using a recurrent neural network, we consider every image\\nrow as a sequence of pixels. Because MNIST image shape is 28*28px, we will then\\nhandle 28 sequences of 28 steps for every sample.\\n'"
      ]
     },
     "execution_count": 5,
     "metadata": {},
     "output_type": "execute_result"
    }
   ],
   "source": [
    "'''\n",
    "To classify images using a recurrent neural network, we consider every image\n",
    "row as a sequence of pixels. Because MNIST image shape is 28*28px, we will then\n",
    "handle 28 sequences of 28 steps for every sample.\n",
    "'''"
   ]
  },
  {
   "cell_type": "code",
   "execution_count": 6,
   "metadata": {
    "collapsed": true
   },
   "outputs": [],
   "source": [
    "# Parameters\n",
    "learning_rate = 0.001\n",
    "training_iters = 100000\n",
    "batch_size = 128\n",
    "display_step = 10"
   ]
  },
  {
   "cell_type": "code",
   "execution_count": 7,
   "metadata": {
    "collapsed": true
   },
   "outputs": [],
   "source": [
    "# Network Parameters\n",
    "n_input = 28 # MNIST data input (img shape: 28*28)\n",
    "n_steps = 28 # timesteps\n",
    "n_hidden = 128 # hidden layer num of features \n",
    "n_classes = 10 # MNIST total classes (0-9 digits)"
   ]
  },
  {
   "cell_type": "code",
   "execution_count": 8,
   "metadata": {
    "collapsed": true
   },
   "outputs": [],
   "source": [
    "# tf Graph input\n",
    "x = tf.placeholder(\"float\", [None, n_steps, n_input])\n",
    "y = tf.placeholder(\"float\", [None, n_classes])"
   ]
  },
  {
   "cell_type": "code",
   "execution_count": 9,
   "metadata": {
    "collapsed": true
   },
   "outputs": [],
   "source": [
    "# Define weights\n",
    "weights = {\n",
    "    'out': tf.Variable(tf.random_normal([n_hidden, n_classes]))\n",
    "}\n",
    "biases = {\n",
    "    'out': tf.Variable(tf.random_normal([n_classes]))\n",
    "}"
   ]
  },
  {
   "cell_type": "code",
   "execution_count": 10,
   "metadata": {},
   "outputs": [
    {
     "name": "stdout",
     "output_type": "stream",
     "text": [
      "x size before unstack: (?, 28, 28)\n",
      "[<tf.Tensor 'unstack:0' shape=(?, 28) dtype=float32>, <tf.Tensor 'unstack:1' shape=(?, 28) dtype=float32>, <tf.Tensor 'unstack:2' shape=(?, 28) dtype=float32>, <tf.Tensor 'unstack:3' shape=(?, 28) dtype=float32>, <tf.Tensor 'unstack:4' shape=(?, 28) dtype=float32>, <tf.Tensor 'unstack:5' shape=(?, 28) dtype=float32>, <tf.Tensor 'unstack:6' shape=(?, 28) dtype=float32>, <tf.Tensor 'unstack:7' shape=(?, 28) dtype=float32>, <tf.Tensor 'unstack:8' shape=(?, 28) dtype=float32>, <tf.Tensor 'unstack:9' shape=(?, 28) dtype=float32>, <tf.Tensor 'unstack:10' shape=(?, 28) dtype=float32>, <tf.Tensor 'unstack:11' shape=(?, 28) dtype=float32>, <tf.Tensor 'unstack:12' shape=(?, 28) dtype=float32>, <tf.Tensor 'unstack:13' shape=(?, 28) dtype=float32>, <tf.Tensor 'unstack:14' shape=(?, 28) dtype=float32>, <tf.Tensor 'unstack:15' shape=(?, 28) dtype=float32>, <tf.Tensor 'unstack:16' shape=(?, 28) dtype=float32>, <tf.Tensor 'unstack:17' shape=(?, 28) dtype=float32>, <tf.Tensor 'unstack:18' shape=(?, 28) dtype=float32>, <tf.Tensor 'unstack:19' shape=(?, 28) dtype=float32>, <tf.Tensor 'unstack:20' shape=(?, 28) dtype=float32>, <tf.Tensor 'unstack:21' shape=(?, 28) dtype=float32>, <tf.Tensor 'unstack:22' shape=(?, 28) dtype=float32>, <tf.Tensor 'unstack:23' shape=(?, 28) dtype=float32>, <tf.Tensor 'unstack:24' shape=(?, 28) dtype=float32>, <tf.Tensor 'unstack:25' shape=(?, 28) dtype=float32>, <tf.Tensor 'unstack:26' shape=(?, 28) dtype=float32>, <tf.Tensor 'unstack:27' shape=(?, 28) dtype=float32>]\n",
      "x size after unstack: 28\n"
     ]
    }
   ],
   "source": [
    "def RNN(x, weights, biases):\n",
    "\n",
    "    # Prepare data shape to match `rnn` function requirements\n",
    "    # Current data input shape: (batch_size, n_steps, n_input)\n",
    "    # Required shape: 'n_steps' tensors list of shape (batch_size, n_input)\n",
    "\n",
    "    # Unstack to get a list of 'n_steps' tensors of shape (batch_size, n_input)\n",
    "    print(\"x size before unstack:\", x.get_shape())\n",
    "    x = tf.unstack(x, n_steps, 1)\n",
    "    print(x)\n",
    "    print(\"x size after unstack:\", len(x))\n",
    "    exit(-1)\n",
    "    # Define a lstm cell with tensorflow\n",
    "    lstm_cell = rnn.BasicLSTMCell(n_hidden, forget_bias=1.0)\n",
    "\n",
    "    # Get lstm cell output\n",
    "    outputs, states = rnn.static_rnn(lstm_cell, x, dtype=tf.float32)\n",
    "\n",
    "    # Linear activation, using rnn inner loop last output\n",
    "    return tf.matmul(outputs[-1], weights['out']) + biases['out']\n",
    "\n",
    "pred = RNN(x, weights, biases)"
   ]
  },
  {
   "cell_type": "code",
   "execution_count": 11,
   "metadata": {},
   "outputs": [
    {
     "name": "stdout",
     "output_type": "stream",
     "text": [
      "WARNING:tensorflow:From <ipython-input-11-2e58f2a60403>:2: softmax_cross_entropy_with_logits (from tensorflow.python.ops.nn_ops) is deprecated and will be removed in a future version.\n",
      "Instructions for updating:\n",
      "\n",
      "Future major versions of TensorFlow will allow gradients to flow\n",
      "into the labels input on backprop by default.\n",
      "\n",
      "See @{tf.nn.softmax_cross_entropy_with_logits_v2}.\n",
      "\n"
     ]
    }
   ],
   "source": [
    "# Define loss and optimizer\n",
    "cost = tf.reduce_mean(tf.nn.softmax_cross_entropy_with_logits(logits=pred, labels=y))\n",
    "optimizer = tf.train.AdamOptimizer(learning_rate=learning_rate).minimize(cost)"
   ]
  },
  {
   "cell_type": "code",
   "execution_count": 12,
   "metadata": {
    "collapsed": true
   },
   "outputs": [],
   "source": [
    "# Evaluate model\n",
    "correct_pred = tf.equal(tf.argmax(pred,1), tf.argmax(y,1))\n",
    "accuracy = tf.reduce_mean(tf.cast(correct_pred, tf.float32))"
   ]
  },
  {
   "cell_type": "code",
   "execution_count": 13,
   "metadata": {
    "collapsed": true
   },
   "outputs": [],
   "source": [
    "# Initializing the variables\n",
    "init = tf.global_variables_initializer()"
   ]
  },
  {
   "cell_type": "code",
   "execution_count": 14,
   "metadata": {
    "scrolled": true
   },
   "outputs": [
    {
     "name": "stdout",
     "output_type": "stream",
     "text": [
      "Iter 1280, Minibatch Loss= 1.930382, Training Accuracy= 0.31250\n",
      "Iter 2560, Minibatch Loss= 1.656423, Training Accuracy= 0.43750\n",
      "Iter 3840, Minibatch Loss= 1.255198, Training Accuracy= 0.55469\n",
      "Iter 5120, Minibatch Loss= 1.138133, Training Accuracy= 0.54688\n",
      "Iter 6400, Minibatch Loss= 1.050768, Training Accuracy= 0.70312\n",
      "Iter 7680, Minibatch Loss= 0.893175, Training Accuracy= 0.68750\n",
      "Iter 8960, Minibatch Loss= 0.750221, Training Accuracy= 0.78125\n",
      "Iter 10240, Minibatch Loss= 0.665614, Training Accuracy= 0.78125\n",
      "Iter 11520, Minibatch Loss= 0.435369, Training Accuracy= 0.88281\n",
      "Iter 12800, Minibatch Loss= 0.408342, Training Accuracy= 0.89062\n",
      "Iter 14080, Minibatch Loss= 0.534957, Training Accuracy= 0.80469\n",
      "Iter 15360, Minibatch Loss= 0.460466, Training Accuracy= 0.89062\n",
      "Iter 16640, Minibatch Loss= 0.395592, Training Accuracy= 0.86719\n",
      "Iter 17920, Minibatch Loss= 0.516093, Training Accuracy= 0.79688\n",
      "Iter 19200, Minibatch Loss= 0.274114, Training Accuracy= 0.92969\n",
      "Iter 20480, Minibatch Loss= 0.302069, Training Accuracy= 0.92188\n",
      "Iter 21760, Minibatch Loss= 0.334623, Training Accuracy= 0.88281\n",
      "Iter 23040, Minibatch Loss= 0.307586, Training Accuracy= 0.89844\n",
      "Iter 24320, Minibatch Loss= 0.248789, Training Accuracy= 0.90625\n",
      "Iter 25600, Minibatch Loss= 0.293916, Training Accuracy= 0.89062\n",
      "Iter 26880, Minibatch Loss= 0.314187, Training Accuracy= 0.87500\n",
      "Iter 28160, Minibatch Loss= 0.248896, Training Accuracy= 0.92969\n",
      "Iter 29440, Minibatch Loss= 0.281667, Training Accuracy= 0.92188\n",
      "Iter 30720, Minibatch Loss= 0.260908, Training Accuracy= 0.92969\n",
      "Iter 32000, Minibatch Loss= 0.186660, Training Accuracy= 0.93750\n",
      "Iter 33280, Minibatch Loss= 0.175743, Training Accuracy= 0.94531\n",
      "Iter 34560, Minibatch Loss= 0.338541, Training Accuracy= 0.92969\n",
      "Iter 35840, Minibatch Loss= 0.257235, Training Accuracy= 0.89844\n",
      "Iter 37120, Minibatch Loss= 0.173818, Training Accuracy= 0.95312\n",
      "Iter 38400, Minibatch Loss= 0.214541, Training Accuracy= 0.93750\n",
      "Iter 39680, Minibatch Loss= 0.165129, Training Accuracy= 0.94531\n",
      "Iter 40960, Minibatch Loss= 0.128565, Training Accuracy= 0.96875\n",
      "Iter 42240, Minibatch Loss= 0.089624, Training Accuracy= 0.97656\n",
      "Iter 43520, Minibatch Loss= 0.089481, Training Accuracy= 0.96094\n",
      "Iter 44800, Minibatch Loss= 0.112819, Training Accuracy= 0.96875\n",
      "Iter 46080, Minibatch Loss= 0.121306, Training Accuracy= 0.96875\n",
      "Iter 47360, Minibatch Loss= 0.199893, Training Accuracy= 0.92188\n",
      "Iter 48640, Minibatch Loss= 0.150021, Training Accuracy= 0.96094\n",
      "Iter 49920, Minibatch Loss= 0.083064, Training Accuracy= 0.97656\n",
      "Iter 51200, Minibatch Loss= 0.163405, Training Accuracy= 0.94531\n",
      "Iter 52480, Minibatch Loss= 0.071747, Training Accuracy= 0.97656\n",
      "Iter 53760, Minibatch Loss= 0.165762, Training Accuracy= 0.96094\n",
      "Iter 55040, Minibatch Loss= 0.121111, Training Accuracy= 0.97656\n",
      "Iter 56320, Minibatch Loss= 0.120451, Training Accuracy= 0.96094\n",
      "Iter 57600, Minibatch Loss= 0.096769, Training Accuracy= 0.96094\n",
      "Iter 58880, Minibatch Loss= 0.145848, Training Accuracy= 0.96094\n",
      "Iter 60160, Minibatch Loss= 0.116880, Training Accuracy= 0.96094\n",
      "Iter 61440, Minibatch Loss= 0.192980, Training Accuracy= 0.93750\n",
      "Iter 62720, Minibatch Loss= 0.088083, Training Accuracy= 0.98438\n",
      "Iter 64000, Minibatch Loss= 0.139949, Training Accuracy= 0.96094\n",
      "Iter 65280, Minibatch Loss= 0.103418, Training Accuracy= 0.96094\n",
      "Iter 66560, Minibatch Loss= 0.090863, Training Accuracy= 0.96094\n",
      "Iter 67840, Minibatch Loss= 0.045535, Training Accuracy= 0.99219\n",
      "Iter 69120, Minibatch Loss= 0.108411, Training Accuracy= 0.96875\n",
      "Iter 70400, Minibatch Loss= 0.109145, Training Accuracy= 0.96094\n",
      "Iter 71680, Minibatch Loss= 0.121542, Training Accuracy= 0.96094\n",
      "Iter 72960, Minibatch Loss= 0.159435, Training Accuracy= 0.95312\n",
      "Iter 74240, Minibatch Loss= 0.169610, Training Accuracy= 0.91406\n",
      "Iter 75520, Minibatch Loss= 0.158382, Training Accuracy= 0.95312\n",
      "Iter 76800, Minibatch Loss= 0.115915, Training Accuracy= 0.96094\n",
      "Iter 78080, Minibatch Loss= 0.107917, Training Accuracy= 0.96875\n",
      "Iter 79360, Minibatch Loss= 0.124398, Training Accuracy= 0.95312\n",
      "Iter 80640, Minibatch Loss= 0.065983, Training Accuracy= 0.98438\n",
      "Iter 81920, Minibatch Loss= 0.156013, Training Accuracy= 0.95312\n",
      "Iter 83200, Minibatch Loss= 0.109317, Training Accuracy= 0.96875\n",
      "Iter 84480, Minibatch Loss= 0.096621, Training Accuracy= 0.96875\n",
      "Iter 85760, Minibatch Loss= 0.078232, Training Accuracy= 0.98438\n",
      "Iter 87040, Minibatch Loss= 0.040945, Training Accuracy= 1.00000\n",
      "Iter 88320, Minibatch Loss= 0.120228, Training Accuracy= 0.96094\n",
      "Iter 89600, Minibatch Loss= 0.046955, Training Accuracy= 0.98438\n",
      "Iter 90880, Minibatch Loss= 0.120513, Training Accuracy= 0.96094\n",
      "Iter 92160, Minibatch Loss= 0.084234, Training Accuracy= 0.96875\n",
      "Iter 93440, Minibatch Loss= 0.152213, Training Accuracy= 0.93750\n",
      "Iter 94720, Minibatch Loss= 0.126730, Training Accuracy= 0.97656\n",
      "Iter 96000, Minibatch Loss= 0.088160, Training Accuracy= 0.98438\n",
      "Iter 97280, Minibatch Loss= 0.038628, Training Accuracy= 0.99219\n",
      "Iter 98560, Minibatch Loss= 0.045246, Training Accuracy= 0.98438\n",
      "Iter 99840, Minibatch Loss= 0.168724, Training Accuracy= 0.94531\n",
      "Optimization Finished!\n",
      "Testing Accuracy: 0.9921875\n"
     ]
    }
   ],
   "source": [
    "# Launch the graph\n",
    "with tf.Session() as sess:\n",
    "    sess.run(init)\n",
    "    step = 1\n",
    "    # Keep training until reach max iterations\n",
    "    while step * batch_size < training_iters:\n",
    "        batch_x, batch_y = mnist.train.next_batch(batch_size)\n",
    "        # Reshape data to get 28 seq of 28 elements\n",
    "        batch_x = batch_x.reshape((batch_size, n_steps, n_input))\n",
    "        # Run optimization op (backprop)\n",
    "        sess.run(optimizer, feed_dict={x: batch_x, y: batch_y})\n",
    "        if step % display_step == 0:\n",
    "            # Calculate batch accuracy\n",
    "            acc = sess.run(accuracy, feed_dict={x: batch_x, y: batch_y})\n",
    "            # Calculate batch loss\n",
    "            loss = sess.run(cost, feed_dict={x: batch_x, y: batch_y})\n",
    "            print(\"Iter \" + str(step * batch_size) + \", Minibatch Loss= \" + \\\n",
    "                  \"{:.6f}\".format(loss) + \", Training Accuracy= \" + \\\n",
    "                  \"{:.5f}\".format(acc))\n",
    "        step += 1\n",
    "    print(\"Optimization Finished!\")\n",
    "\n",
    "    # Calculate accuracy for 128 mnist test images\n",
    "    test_len = 128\n",
    "    test_data = mnist.test.images[:test_len].reshape((-1, n_steps, n_input))\n",
    "    test_label = mnist.test.labels[:test_len]\n",
    "    print(\"Testing Accuracy:\", \\\n",
    "        sess.run(accuracy, feed_dict={x: test_data, y: test_label}))"
   ]
  },
  {
   "cell_type": "code",
   "execution_count": 15,
   "metadata": {},
   "outputs": [
    {
     "name": "stdout",
     "output_type": "stream",
     "text": [
      "Time: 72.9856481552124\n"
     ]
    }
   ],
   "source": [
    "end = time.time()\n",
    "print(\"Time: \" + str(end - start))"
   ]
  }
 ],
 "metadata": {
  "kernelspec": {
   "display_name": "Python 3",
   "language": "python",
   "name": "python3"
  },
  "language_info": {
   "codemirror_mode": {
    "name": "ipython",
    "version": 3
   },
   "file_extension": ".py",
   "mimetype": "text/x-python",
   "name": "python",
   "nbconvert_exporter": "python",
   "pygments_lexer": "ipython3",
   "version": "3.6.3"
  }
 },
 "nbformat": 4,
 "nbformat_minor": 2
}
